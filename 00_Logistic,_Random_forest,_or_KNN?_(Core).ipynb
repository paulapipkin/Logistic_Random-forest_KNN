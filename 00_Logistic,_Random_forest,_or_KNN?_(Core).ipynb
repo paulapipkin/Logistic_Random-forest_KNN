{
  "nbformat": 4,
  "nbformat_minor": 0,
  "metadata": {
    "colab": {
      "name": "00 Logistic, Random forest, or KNN? (Core).ipynb",
      "provenance": [],
      "mount_file_id": "1eBrRAbqoyfxdtO4JWSVymxPvLwgjW1ez",
      "authorship_tag": "ABX9TyM6Ixk5jJg6xvEyRWpPV2RL",
      "include_colab_link": true
    },
    "kernelspec": {
      "name": "python3",
      "display_name": "Python 3"
    },
    "language_info": {
      "name": "python"
    }
  },
  "cells": [
    {
      "cell_type": "markdown",
      "metadata": {
        "id": "view-in-github",
        "colab_type": "text"
      },
      "source": [
        "<a href=\"https://colab.research.google.com/github/paulapipkin/Logistic_Random-forest_KNN/blob/main/00_Logistic%2C_Random_forest%2C_or_KNN%3F_(Core).ipynb\" target=\"_parent\"><img src=\"https://colab.research.google.com/assets/colab-badge.svg\" alt=\"Open In Colab\"/></a>"
      ]
    },
    {
      "cell_type": "markdown",
      "source": [
        "##Logistic, Random forest, or KNN? (Core)\n",
        "\n",
        "- Paula Pipkin\n",
        "- 8/2"
      ],
      "metadata": {
        "id": "IIuBVgMsDKld"
      }
    },
    {
      "cell_type": "code",
      "execution_count": 33,
      "metadata": {
        "id": "_QtdNHASDF6Y"
      },
      "outputs": [],
      "source": [
        "#load prepare data\n",
        "import pandas as pd\n",
        "import numpy as np\n",
        "\n",
        "#prepare for ML\n",
        "from sklearn.preprocessing import StandardScaler\n",
        "from sklearn.model_selection import train_test_split, GridSearchCV\n",
        "from sklearn.pipeline import make_pipeline\n",
        "\n",
        "#models\n",
        "from sklearn.linear_model import LogisticRegression\n",
        "from sklearn.ensemble import RandomForestClassifier\n",
        "from sklearn.neighbors import KNeighborsClassifier\n",
        "\n",
        "#metrics\n",
        "from sklearn.metrics import accuracy_score, precision_score, recall_score, classification_report, ConfusionMatrixDisplay\n",
        "\n",
        "#plot\n",
        "import matplotlib.pyplot as plt\n",
        "\n",
        "#customize\n",
        "import seaborn as sns\n",
        "from sklearn import set_config\n",
        "set_config(display='diagram')\n"
      ]
    },
    {
      "cell_type": "code",
      "source": [
        "#load data\n",
        "df = pd.read_csv('/content/drive/MyDrive/BootCamp/05 - 08 - MACHINE LEARNING/03 Week 07 - Classification Models/wisconsinBreastCancer - wisconsinBreastCancer.csv')\n",
        "df.head()\n"
      ],
      "metadata": {
        "colab": {
          "base_uri": "https://localhost:8080/",
          "height": 317
        },
        "id": "ArlFkFpQFj2h",
        "outputId": "e95a3779-57b9-486e-9954-6f174eff5b77"
      },
      "execution_count": 34,
      "outputs": [
        {
          "output_type": "execute_result",
          "data": {
            "text/plain": [
              "         id diagnosis  radius_mean  texture_mean  perimeter_mean  area_mean  \\\n",
              "0    842302         M        17.99         10.38          122.80     1001.0   \n",
              "1    842517         M        20.57         17.77          132.90     1326.0   \n",
              "2  84300903         M        19.69         21.25          130.00     1203.0   \n",
              "3  84348301         M        11.42         20.38           77.58      386.1   \n",
              "4  84358402         M        20.29         14.34          135.10     1297.0   \n",
              "\n",
              "   smoothness_mean  compactness_mean  concavity_mean  concave points_mean  \\\n",
              "0          0.11840           0.27760          0.3001              0.14710   \n",
              "1          0.08474           0.07864          0.0869              0.07017   \n",
              "2          0.10960           0.15990          0.1974              0.12790   \n",
              "3          0.14250           0.28390          0.2414              0.10520   \n",
              "4          0.10030           0.13280          0.1980              0.10430   \n",
              "\n",
              "   ...  radius_worst  texture_worst  perimeter_worst  area_worst  \\\n",
              "0  ...         25.38          17.33           184.60      2019.0   \n",
              "1  ...         24.99          23.41           158.80      1956.0   \n",
              "2  ...         23.57          25.53           152.50      1709.0   \n",
              "3  ...         14.91          26.50            98.87       567.7   \n",
              "4  ...         22.54          16.67           152.20      1575.0   \n",
              "\n",
              "   smoothness_worst  compactness_worst  concavity_worst  concave points_worst  \\\n",
              "0            0.1622             0.6656           0.7119                0.2654   \n",
              "1            0.1238             0.1866           0.2416                0.1860   \n",
              "2            0.1444             0.4245           0.4504                0.2430   \n",
              "3            0.2098             0.8663           0.6869                0.2575   \n",
              "4            0.1374             0.2050           0.4000                0.1625   \n",
              "\n",
              "   symmetry_worst  fractal_dimension_worst  \n",
              "0          0.4601                  0.11890  \n",
              "1          0.2750                  0.08902  \n",
              "2          0.3613                  0.08758  \n",
              "3          0.6638                  0.17300  \n",
              "4          0.2364                  0.07678  \n",
              "\n",
              "[5 rows x 32 columns]"
            ],
            "text/html": [
              "\n",
              "  <div id=\"df-cacc3926-bdce-4568-8553-a28a32cc1b55\">\n",
              "    <div class=\"colab-df-container\">\n",
              "      <div>\n",
              "<style scoped>\n",
              "    .dataframe tbody tr th:only-of-type {\n",
              "        vertical-align: middle;\n",
              "    }\n",
              "\n",
              "    .dataframe tbody tr th {\n",
              "        vertical-align: top;\n",
              "    }\n",
              "\n",
              "    .dataframe thead th {\n",
              "        text-align: right;\n",
              "    }\n",
              "</style>\n",
              "<table border=\"1\" class=\"dataframe\">\n",
              "  <thead>\n",
              "    <tr style=\"text-align: right;\">\n",
              "      <th></th>\n",
              "      <th>id</th>\n",
              "      <th>diagnosis</th>\n",
              "      <th>radius_mean</th>\n",
              "      <th>texture_mean</th>\n",
              "      <th>perimeter_mean</th>\n",
              "      <th>area_mean</th>\n",
              "      <th>smoothness_mean</th>\n",
              "      <th>compactness_mean</th>\n",
              "      <th>concavity_mean</th>\n",
              "      <th>concave points_mean</th>\n",
              "      <th>...</th>\n",
              "      <th>radius_worst</th>\n",
              "      <th>texture_worst</th>\n",
              "      <th>perimeter_worst</th>\n",
              "      <th>area_worst</th>\n",
              "      <th>smoothness_worst</th>\n",
              "      <th>compactness_worst</th>\n",
              "      <th>concavity_worst</th>\n",
              "      <th>concave points_worst</th>\n",
              "      <th>symmetry_worst</th>\n",
              "      <th>fractal_dimension_worst</th>\n",
              "    </tr>\n",
              "  </thead>\n",
              "  <tbody>\n",
              "    <tr>\n",
              "      <th>0</th>\n",
              "      <td>842302</td>\n",
              "      <td>M</td>\n",
              "      <td>17.99</td>\n",
              "      <td>10.38</td>\n",
              "      <td>122.80</td>\n",
              "      <td>1001.0</td>\n",
              "      <td>0.11840</td>\n",
              "      <td>0.27760</td>\n",
              "      <td>0.3001</td>\n",
              "      <td>0.14710</td>\n",
              "      <td>...</td>\n",
              "      <td>25.38</td>\n",
              "      <td>17.33</td>\n",
              "      <td>184.60</td>\n",
              "      <td>2019.0</td>\n",
              "      <td>0.1622</td>\n",
              "      <td>0.6656</td>\n",
              "      <td>0.7119</td>\n",
              "      <td>0.2654</td>\n",
              "      <td>0.4601</td>\n",
              "      <td>0.11890</td>\n",
              "    </tr>\n",
              "    <tr>\n",
              "      <th>1</th>\n",
              "      <td>842517</td>\n",
              "      <td>M</td>\n",
              "      <td>20.57</td>\n",
              "      <td>17.77</td>\n",
              "      <td>132.90</td>\n",
              "      <td>1326.0</td>\n",
              "      <td>0.08474</td>\n",
              "      <td>0.07864</td>\n",
              "      <td>0.0869</td>\n",
              "      <td>0.07017</td>\n",
              "      <td>...</td>\n",
              "      <td>24.99</td>\n",
              "      <td>23.41</td>\n",
              "      <td>158.80</td>\n",
              "      <td>1956.0</td>\n",
              "      <td>0.1238</td>\n",
              "      <td>0.1866</td>\n",
              "      <td>0.2416</td>\n",
              "      <td>0.1860</td>\n",
              "      <td>0.2750</td>\n",
              "      <td>0.08902</td>\n",
              "    </tr>\n",
              "    <tr>\n",
              "      <th>2</th>\n",
              "      <td>84300903</td>\n",
              "      <td>M</td>\n",
              "      <td>19.69</td>\n",
              "      <td>21.25</td>\n",
              "      <td>130.00</td>\n",
              "      <td>1203.0</td>\n",
              "      <td>0.10960</td>\n",
              "      <td>0.15990</td>\n",
              "      <td>0.1974</td>\n",
              "      <td>0.12790</td>\n",
              "      <td>...</td>\n",
              "      <td>23.57</td>\n",
              "      <td>25.53</td>\n",
              "      <td>152.50</td>\n",
              "      <td>1709.0</td>\n",
              "      <td>0.1444</td>\n",
              "      <td>0.4245</td>\n",
              "      <td>0.4504</td>\n",
              "      <td>0.2430</td>\n",
              "      <td>0.3613</td>\n",
              "      <td>0.08758</td>\n",
              "    </tr>\n",
              "    <tr>\n",
              "      <th>3</th>\n",
              "      <td>84348301</td>\n",
              "      <td>M</td>\n",
              "      <td>11.42</td>\n",
              "      <td>20.38</td>\n",
              "      <td>77.58</td>\n",
              "      <td>386.1</td>\n",
              "      <td>0.14250</td>\n",
              "      <td>0.28390</td>\n",
              "      <td>0.2414</td>\n",
              "      <td>0.10520</td>\n",
              "      <td>...</td>\n",
              "      <td>14.91</td>\n",
              "      <td>26.50</td>\n",
              "      <td>98.87</td>\n",
              "      <td>567.7</td>\n",
              "      <td>0.2098</td>\n",
              "      <td>0.8663</td>\n",
              "      <td>0.6869</td>\n",
              "      <td>0.2575</td>\n",
              "      <td>0.6638</td>\n",
              "      <td>0.17300</td>\n",
              "    </tr>\n",
              "    <tr>\n",
              "      <th>4</th>\n",
              "      <td>84358402</td>\n",
              "      <td>M</td>\n",
              "      <td>20.29</td>\n",
              "      <td>14.34</td>\n",
              "      <td>135.10</td>\n",
              "      <td>1297.0</td>\n",
              "      <td>0.10030</td>\n",
              "      <td>0.13280</td>\n",
              "      <td>0.1980</td>\n",
              "      <td>0.10430</td>\n",
              "      <td>...</td>\n",
              "      <td>22.54</td>\n",
              "      <td>16.67</td>\n",
              "      <td>152.20</td>\n",
              "      <td>1575.0</td>\n",
              "      <td>0.1374</td>\n",
              "      <td>0.2050</td>\n",
              "      <td>0.4000</td>\n",
              "      <td>0.1625</td>\n",
              "      <td>0.2364</td>\n",
              "      <td>0.07678</td>\n",
              "    </tr>\n",
              "  </tbody>\n",
              "</table>\n",
              "<p>5 rows × 32 columns</p>\n",
              "</div>\n",
              "      <button class=\"colab-df-convert\" onclick=\"convertToInteractive('df-cacc3926-bdce-4568-8553-a28a32cc1b55')\"\n",
              "              title=\"Convert this dataframe to an interactive table.\"\n",
              "              style=\"display:none;\">\n",
              "        \n",
              "  <svg xmlns=\"http://www.w3.org/2000/svg\" height=\"24px\"viewBox=\"0 0 24 24\"\n",
              "       width=\"24px\">\n",
              "    <path d=\"M0 0h24v24H0V0z\" fill=\"none\"/>\n",
              "    <path d=\"M18.56 5.44l.94 2.06.94-2.06 2.06-.94-2.06-.94-.94-2.06-.94 2.06-2.06.94zm-11 1L8.5 8.5l.94-2.06 2.06-.94-2.06-.94L8.5 2.5l-.94 2.06-2.06.94zm10 10l.94 2.06.94-2.06 2.06-.94-2.06-.94-.94-2.06-.94 2.06-2.06.94z\"/><path d=\"M17.41 7.96l-1.37-1.37c-.4-.4-.92-.59-1.43-.59-.52 0-1.04.2-1.43.59L10.3 9.45l-7.72 7.72c-.78.78-.78 2.05 0 2.83L4 21.41c.39.39.9.59 1.41.59.51 0 1.02-.2 1.41-.59l7.78-7.78 2.81-2.81c.8-.78.8-2.07 0-2.86zM5.41 20L4 18.59l7.72-7.72 1.47 1.35L5.41 20z\"/>\n",
              "  </svg>\n",
              "      </button>\n",
              "      \n",
              "  <style>\n",
              "    .colab-df-container {\n",
              "      display:flex;\n",
              "      flex-wrap:wrap;\n",
              "      gap: 12px;\n",
              "    }\n",
              "\n",
              "    .colab-df-convert {\n",
              "      background-color: #E8F0FE;\n",
              "      border: none;\n",
              "      border-radius: 50%;\n",
              "      cursor: pointer;\n",
              "      display: none;\n",
              "      fill: #1967D2;\n",
              "      height: 32px;\n",
              "      padding: 0 0 0 0;\n",
              "      width: 32px;\n",
              "    }\n",
              "\n",
              "    .colab-df-convert:hover {\n",
              "      background-color: #E2EBFA;\n",
              "      box-shadow: 0px 1px 2px rgba(60, 64, 67, 0.3), 0px 1px 3px 1px rgba(60, 64, 67, 0.15);\n",
              "      fill: #174EA6;\n",
              "    }\n",
              "\n",
              "    [theme=dark] .colab-df-convert {\n",
              "      background-color: #3B4455;\n",
              "      fill: #D2E3FC;\n",
              "    }\n",
              "\n",
              "    [theme=dark] .colab-df-convert:hover {\n",
              "      background-color: #434B5C;\n",
              "      box-shadow: 0px 1px 3px 1px rgba(0, 0, 0, 0.15);\n",
              "      filter: drop-shadow(0px 1px 2px rgba(0, 0, 0, 0.3));\n",
              "      fill: #FFFFFF;\n",
              "    }\n",
              "  </style>\n",
              "\n",
              "      <script>\n",
              "        const buttonEl =\n",
              "          document.querySelector('#df-cacc3926-bdce-4568-8553-a28a32cc1b55 button.colab-df-convert');\n",
              "        buttonEl.style.display =\n",
              "          google.colab.kernel.accessAllowed ? 'block' : 'none';\n",
              "\n",
              "        async function convertToInteractive(key) {\n",
              "          const element = document.querySelector('#df-cacc3926-bdce-4568-8553-a28a32cc1b55');\n",
              "          const dataTable =\n",
              "            await google.colab.kernel.invokeFunction('convertToInteractive',\n",
              "                                                     [key], {});\n",
              "          if (!dataTable) return;\n",
              "\n",
              "          const docLinkHtml = 'Like what you see? Visit the ' +\n",
              "            '<a target=\"_blank\" href=https://colab.research.google.com/notebooks/data_table.ipynb>data table notebook</a>'\n",
              "            + ' to learn more about interactive tables.';\n",
              "          element.innerHTML = '';\n",
              "          dataTable['output_type'] = 'display_data';\n",
              "          await google.colab.output.renderOutput(dataTable, element);\n",
              "          const docLink = document.createElement('div');\n",
              "          docLink.innerHTML = docLinkHtml;\n",
              "          element.appendChild(docLink);\n",
              "        }\n",
              "      </script>\n",
              "    </div>\n",
              "  </div>\n",
              "  "
            ]
          },
          "metadata": {},
          "execution_count": 34
        }
      ]
    },
    {
      "cell_type": "markdown",
      "source": [
        "### 1) Use a logistic regression model and try tuning both L1 ('l1') and L2 ('l2') regularization. This is a great opportunity to see how tuning hyperparameters can affect the model results. Keep in mind that you may need to change the solver as well.  Check the documentation for LogisticRegression.\n",
        "\n",
        "Remember to evaluate your classification models using multiple metrics!"
      ],
      "metadata": {
        "id": "P6buyUggDYJb"
      }
    },
    {
      "cell_type": "code",
      "source": [
        "df.info()"
      ],
      "metadata": {
        "colab": {
          "base_uri": "https://localhost:8080/"
        },
        "id": "YAb_iSlyGjj5",
        "outputId": "66750264-1ad9-46f7-d348-38ad806e22af"
      },
      "execution_count": 35,
      "outputs": [
        {
          "output_type": "stream",
          "name": "stdout",
          "text": [
            "<class 'pandas.core.frame.DataFrame'>\n",
            "RangeIndex: 569 entries, 0 to 568\n",
            "Data columns (total 32 columns):\n",
            " #   Column                   Non-Null Count  Dtype  \n",
            "---  ------                   --------------  -----  \n",
            " 0   id                       569 non-null    int64  \n",
            " 1   diagnosis                569 non-null    object \n",
            " 2   radius_mean              569 non-null    float64\n",
            " 3   texture_mean             569 non-null    float64\n",
            " 4   perimeter_mean           569 non-null    float64\n",
            " 5   area_mean                569 non-null    float64\n",
            " 6   smoothness_mean          569 non-null    float64\n",
            " 7   compactness_mean         569 non-null    float64\n",
            " 8   concavity_mean           569 non-null    float64\n",
            " 9   concave points_mean      569 non-null    float64\n",
            " 10  symmetry_mean            569 non-null    float64\n",
            " 11  fractal_dimension_mean   569 non-null    float64\n",
            " 12  radius_se                569 non-null    float64\n",
            " 13  texture_se               569 non-null    float64\n",
            " 14  perimeter_se             569 non-null    float64\n",
            " 15  area_se                  569 non-null    float64\n",
            " 16  smoothness_se            569 non-null    float64\n",
            " 17  compactness_se           569 non-null    float64\n",
            " 18  concavity_se             569 non-null    float64\n",
            " 19  concave points_se        569 non-null    float64\n",
            " 20  symmetry_se              569 non-null    float64\n",
            " 21  fractal_dimension_se     569 non-null    float64\n",
            " 22  radius_worst             569 non-null    float64\n",
            " 23  texture_worst            569 non-null    float64\n",
            " 24  perimeter_worst          569 non-null    float64\n",
            " 25  area_worst               569 non-null    float64\n",
            " 26  smoothness_worst         569 non-null    float64\n",
            " 27  compactness_worst        569 non-null    float64\n",
            " 28  concavity_worst          569 non-null    float64\n",
            " 29  concave points_worst     569 non-null    float64\n",
            " 30  symmetry_worst           569 non-null    float64\n",
            " 31  fractal_dimension_worst  569 non-null    float64\n",
            "dtypes: float64(30), int64(1), object(1)\n",
            "memory usage: 142.4+ KB\n"
          ]
        }
      ]
    },
    {
      "cell_type": "code",
      "source": [
        "print(df.isna().sum().sum())\n",
        "print(df.duplicated().sum())"
      ],
      "metadata": {
        "colab": {
          "base_uri": "https://localhost:8080/"
        },
        "id": "Jo7ZMfT-GkfF",
        "outputId": "083a7b3b-9276-4948-bb46-f1ff54ca1232"
      },
      "execution_count": 36,
      "outputs": [
        {
          "output_type": "stream",
          "name": "stdout",
          "text": [
            "0\n",
            "0\n"
          ]
        }
      ]
    },
    {
      "cell_type": "code",
      "source": [
        "df['diagnosis'].value_counts(normalize=True)"
      ],
      "metadata": {
        "colab": {
          "base_uri": "https://localhost:8080/"
        },
        "id": "MTIppis8PMhQ",
        "outputId": "badb8d3e-8d87-42bf-8682-a88723c2e314"
      },
      "execution_count": 37,
      "outputs": [
        {
          "output_type": "execute_result",
          "data": {
            "text/plain": [
              "B    0.627417\n",
              "M    0.372583\n",
              "Name: diagnosis, dtype: float64"
            ]
          },
          "metadata": {},
          "execution_count": 37
        }
      ]
    },
    {
      "cell_type": "markdown",
      "source": [
        ".score() could be calculate with object type , but I'm adding this step so I can calculat and create a confunsion matrix, recall and precision metrics"
      ],
      "metadata": {
        "id": "9EWQjDXlTXeJ"
      }
    },
    {
      "cell_type": "code",
      "source": [
        "df['diagnosis']= df['diagnosis'].replace({'B':0, 'M':1})"
      ],
      "metadata": {
        "id": "0FGN_Q_rTFXF"
      },
      "execution_count": 38,
      "outputs": []
    },
    {
      "cell_type": "code",
      "source": [
        "#prepare/split data\n",
        "\n",
        "X = df.drop(columns=['diagnosis', 'id'])\n",
        "y = df['diagnosis']\n",
        "\n",
        "# Train test split\n",
        "X_train, X_test, y_train, y_test = train_test_split(X, y, random_state=42)\n"
      ],
      "metadata": {
        "id": "9K5nSav1Gxfn"
      },
      "execution_count": 39,
      "outputs": []
    },
    {
      "cell_type": "markdown",
      "source": [
        "###Logistic Regression Model"
      ],
      "metadata": {
        "id": "ql5aj9hXc83v"
      }
    },
    {
      "cell_type": "code",
      "source": [
        "# Logistic Regression Model Instance\n",
        "log_reg = LogisticRegression()\n",
        "\n",
        "# Logistic Regression requires scaling:\n",
        "scaler = StandardScaler()\n",
        "\n",
        "# Put scaler and model in a pipeline\n",
        "log_reg_pipe = make_pipeline(scaler, log_reg)\n",
        "\n",
        "#get parameters\n",
        "log_reg_pipe.get_params()"
      ],
      "metadata": {
        "colab": {
          "base_uri": "https://localhost:8080/"
        },
        "id": "dg-plxNCIj4P",
        "outputId": "598fd722-566a-43c4-c865-7b23d1ca394f"
      },
      "execution_count": 40,
      "outputs": [
        {
          "output_type": "execute_result",
          "data": {
            "text/plain": [
              "{'logisticregression': LogisticRegression(),\n",
              " 'logisticregression__C': 1.0,\n",
              " 'logisticregression__class_weight': None,\n",
              " 'logisticregression__dual': False,\n",
              " 'logisticregression__fit_intercept': True,\n",
              " 'logisticregression__intercept_scaling': 1,\n",
              " 'logisticregression__l1_ratio': None,\n",
              " 'logisticregression__max_iter': 100,\n",
              " 'logisticregression__multi_class': 'auto',\n",
              " 'logisticregression__n_jobs': None,\n",
              " 'logisticregression__penalty': 'l2',\n",
              " 'logisticregression__random_state': None,\n",
              " 'logisticregression__solver': 'lbfgs',\n",
              " 'logisticregression__tol': 0.0001,\n",
              " 'logisticregression__verbose': 0,\n",
              " 'logisticregression__warm_start': False,\n",
              " 'memory': None,\n",
              " 'standardscaler': StandardScaler(),\n",
              " 'standardscaler__copy': True,\n",
              " 'standardscaler__with_mean': True,\n",
              " 'standardscaler__with_std': True,\n",
              " 'steps': [('standardscaler', StandardScaler()),\n",
              "  ('logisticregression', LogisticRegression())],\n",
              " 'verbose': False}"
            ]
          },
          "metadata": {},
          "execution_count": 40
        }
      ]
    },
    {
      "cell_type": "code",
      "source": [
        "# I removed lbfgs from the grid because of the error:' ValueError: Solver lbfgs supports only 'l2' or 'none' penalties, got l1 penalty'\n",
        "# use parameters to create a GS\n",
        "reg_pipe_param_grid = {'logisticregression__penalty': ['l1','l2'],\n",
        "                       'logisticregression__solver':[ 'liblinear'], \n",
        "                       'logisticregression__C':[0.0001, 0.001, 0.01, 0.1, 1, 10, 100, 1000], \n",
        "                       'logisticregression__max_iter': [1000]}\n",
        "              "
      ],
      "metadata": {
        "id": "gut4MG99JcFY"
      },
      "execution_count": 41,
      "outputs": []
    },
    {
      "cell_type": "code",
      "source": [
        "#gridsearch \"pipe\"\n",
        "reg_pipe_gs = GridSearchCV(log_reg_pipe, reg_pipe_param_grid)"
      ],
      "metadata": {
        "id": "YQBE_E1ILbvc"
      },
      "execution_count": 42,
      "outputs": []
    },
    {
      "cell_type": "code",
      "source": [
        "reg_pipe_gs.fit(X_train, y_train)\n",
        "\n"
      ],
      "metadata": {
        "colab": {
          "base_uri": "https://localhost:8080/",
          "height": 127
        },
        "id": "uc0_O7gaL_m2",
        "outputId": "142bbfc3-0583-41fa-b9d8-f4c2e07f2453"
      },
      "execution_count": 43,
      "outputs": [
        {
          "output_type": "execute_result",
          "data": {
            "text/plain": [
              "GridSearchCV(estimator=Pipeline(steps=[('standardscaler', StandardScaler()),\n",
              "                                       ('logisticregression',\n",
              "                                        LogisticRegression())]),\n",
              "             param_grid={'logisticregression__C': [0.0001, 0.001, 0.01, 0.1, 1,\n",
              "                                                   10, 100, 1000],\n",
              "                         'logisticregression__max_iter': [1000],\n",
              "                         'logisticregression__penalty': ['l1', 'l2'],\n",
              "                         'logisticregression__solver': ['liblinear']})"
            ],
            "text/html": [
              "<style>#sk-446bea84-9cd8-43da-bde2-6627c171ad44 {color: black;background-color: white;}#sk-446bea84-9cd8-43da-bde2-6627c171ad44 pre{padding: 0;}#sk-446bea84-9cd8-43da-bde2-6627c171ad44 div.sk-toggleable {background-color: white;}#sk-446bea84-9cd8-43da-bde2-6627c171ad44 label.sk-toggleable__label {cursor: pointer;display: block;width: 100%;margin-bottom: 0;padding: 0.3em;box-sizing: border-box;text-align: center;}#sk-446bea84-9cd8-43da-bde2-6627c171ad44 label.sk-toggleable__label-arrow:before {content: \"▸\";float: left;margin-right: 0.25em;color: #696969;}#sk-446bea84-9cd8-43da-bde2-6627c171ad44 label.sk-toggleable__label-arrow:hover:before {color: black;}#sk-446bea84-9cd8-43da-bde2-6627c171ad44 div.sk-estimator:hover label.sk-toggleable__label-arrow:before {color: black;}#sk-446bea84-9cd8-43da-bde2-6627c171ad44 div.sk-toggleable__content {max-height: 0;max-width: 0;overflow: hidden;text-align: left;background-color: #f0f8ff;}#sk-446bea84-9cd8-43da-bde2-6627c171ad44 div.sk-toggleable__content pre {margin: 0.2em;color: black;border-radius: 0.25em;background-color: #f0f8ff;}#sk-446bea84-9cd8-43da-bde2-6627c171ad44 input.sk-toggleable__control:checked~div.sk-toggleable__content {max-height: 200px;max-width: 100%;overflow: auto;}#sk-446bea84-9cd8-43da-bde2-6627c171ad44 input.sk-toggleable__control:checked~label.sk-toggleable__label-arrow:before {content: \"▾\";}#sk-446bea84-9cd8-43da-bde2-6627c171ad44 div.sk-estimator input.sk-toggleable__control:checked~label.sk-toggleable__label {background-color: #d4ebff;}#sk-446bea84-9cd8-43da-bde2-6627c171ad44 div.sk-label input.sk-toggleable__control:checked~label.sk-toggleable__label {background-color: #d4ebff;}#sk-446bea84-9cd8-43da-bde2-6627c171ad44 input.sk-hidden--visually {border: 0;clip: rect(1px 1px 1px 1px);clip: rect(1px, 1px, 1px, 1px);height: 1px;margin: -1px;overflow: hidden;padding: 0;position: absolute;width: 1px;}#sk-446bea84-9cd8-43da-bde2-6627c171ad44 div.sk-estimator {font-family: monospace;background-color: #f0f8ff;border: 1px dotted black;border-radius: 0.25em;box-sizing: border-box;margin-bottom: 0.5em;}#sk-446bea84-9cd8-43da-bde2-6627c171ad44 div.sk-estimator:hover {background-color: #d4ebff;}#sk-446bea84-9cd8-43da-bde2-6627c171ad44 div.sk-parallel-item::after {content: \"\";width: 100%;border-bottom: 1px solid gray;flex-grow: 1;}#sk-446bea84-9cd8-43da-bde2-6627c171ad44 div.sk-label:hover label.sk-toggleable__label {background-color: #d4ebff;}#sk-446bea84-9cd8-43da-bde2-6627c171ad44 div.sk-serial::before {content: \"\";position: absolute;border-left: 1px solid gray;box-sizing: border-box;top: 2em;bottom: 0;left: 50%;}#sk-446bea84-9cd8-43da-bde2-6627c171ad44 div.sk-serial {display: flex;flex-direction: column;align-items: center;background-color: white;padding-right: 0.2em;padding-left: 0.2em;}#sk-446bea84-9cd8-43da-bde2-6627c171ad44 div.sk-item {z-index: 1;}#sk-446bea84-9cd8-43da-bde2-6627c171ad44 div.sk-parallel {display: flex;align-items: stretch;justify-content: center;background-color: white;}#sk-446bea84-9cd8-43da-bde2-6627c171ad44 div.sk-parallel::before {content: \"\";position: absolute;border-left: 1px solid gray;box-sizing: border-box;top: 2em;bottom: 0;left: 50%;}#sk-446bea84-9cd8-43da-bde2-6627c171ad44 div.sk-parallel-item {display: flex;flex-direction: column;position: relative;background-color: white;}#sk-446bea84-9cd8-43da-bde2-6627c171ad44 div.sk-parallel-item:first-child::after {align-self: flex-end;width: 50%;}#sk-446bea84-9cd8-43da-bde2-6627c171ad44 div.sk-parallel-item:last-child::after {align-self: flex-start;width: 50%;}#sk-446bea84-9cd8-43da-bde2-6627c171ad44 div.sk-parallel-item:only-child::after {width: 0;}#sk-446bea84-9cd8-43da-bde2-6627c171ad44 div.sk-dashed-wrapped {border: 1px dashed gray;margin: 0 0.4em 0.5em 0.4em;box-sizing: border-box;padding-bottom: 0.4em;background-color: white;position: relative;}#sk-446bea84-9cd8-43da-bde2-6627c171ad44 div.sk-label label {font-family: monospace;font-weight: bold;background-color: white;display: inline-block;line-height: 1.2em;}#sk-446bea84-9cd8-43da-bde2-6627c171ad44 div.sk-label-container {position: relative;z-index: 2;text-align: center;}#sk-446bea84-9cd8-43da-bde2-6627c171ad44 div.sk-container {/* jupyter's `normalize.less` sets `[hidden] { display: none; }` but bootstrap.min.css set `[hidden] { display: none !important; }` so we also need the `!important` here to be able to override the default hidden behavior on the sphinx rendered scikit-learn.org. See: https://github.com/scikit-learn/scikit-learn/issues/21755 */display: inline-block !important;position: relative;}#sk-446bea84-9cd8-43da-bde2-6627c171ad44 div.sk-text-repr-fallback {display: none;}</style><div id=\"sk-446bea84-9cd8-43da-bde2-6627c171ad44\" class=\"sk-top-container\"><div class=\"sk-text-repr-fallback\"><pre>GridSearchCV(estimator=Pipeline(steps=[(&#x27;standardscaler&#x27;, StandardScaler()),\n",
              "                                       (&#x27;logisticregression&#x27;,\n",
              "                                        LogisticRegression())]),\n",
              "             param_grid={&#x27;logisticregression__C&#x27;: [0.0001, 0.001, 0.01, 0.1, 1,\n",
              "                                                   10, 100, 1000],\n",
              "                         &#x27;logisticregression__max_iter&#x27;: [1000],\n",
              "                         &#x27;logisticregression__penalty&#x27;: [&#x27;l1&#x27;, &#x27;l2&#x27;],\n",
              "                         &#x27;logisticregression__solver&#x27;: [&#x27;liblinear&#x27;]})</pre><b>Please rerun this cell to show the HTML repr or trust the notebook.</b></div><div class=\"sk-container\" hidden><div class=\"sk-item sk-dashed-wrapped\"><div class=\"sk-label-container\"><div class=\"sk-label sk-toggleable\"><input class=\"sk-toggleable__control sk-hidden--visually\" id=\"0ca55374-11b4-40a2-a6aa-06531c603dce\" type=\"checkbox\" ><label for=\"0ca55374-11b4-40a2-a6aa-06531c603dce\" class=\"sk-toggleable__label sk-toggleable__label-arrow\">GridSearchCV</label><div class=\"sk-toggleable__content\"><pre>GridSearchCV(estimator=Pipeline(steps=[(&#x27;standardscaler&#x27;, StandardScaler()),\n",
              "                                       (&#x27;logisticregression&#x27;,\n",
              "                                        LogisticRegression())]),\n",
              "             param_grid={&#x27;logisticregression__C&#x27;: [0.0001, 0.001, 0.01, 0.1, 1,\n",
              "                                                   10, 100, 1000],\n",
              "                         &#x27;logisticregression__max_iter&#x27;: [1000],\n",
              "                         &#x27;logisticregression__penalty&#x27;: [&#x27;l1&#x27;, &#x27;l2&#x27;],\n",
              "                         &#x27;logisticregression__solver&#x27;: [&#x27;liblinear&#x27;]})</pre></div></div></div><div class=\"sk-parallel\"><div class=\"sk-parallel-item\"><div class=\"sk-item\"><div class=\"sk-serial\"><div class=\"sk-item\"><div class=\"sk-serial\"><div class=\"sk-item\"><div class=\"sk-estimator sk-toggleable\"><input class=\"sk-toggleable__control sk-hidden--visually\" id=\"970a1951-9d0c-43e6-b145-290dffdffb44\" type=\"checkbox\" ><label for=\"970a1951-9d0c-43e6-b145-290dffdffb44\" class=\"sk-toggleable__label sk-toggleable__label-arrow\">StandardScaler</label><div class=\"sk-toggleable__content\"><pre>StandardScaler()</pre></div></div></div><div class=\"sk-item\"><div class=\"sk-estimator sk-toggleable\"><input class=\"sk-toggleable__control sk-hidden--visually\" id=\"5a01fa3c-167a-408c-9e1c-84483a385b91\" type=\"checkbox\" ><label for=\"5a01fa3c-167a-408c-9e1c-84483a385b91\" class=\"sk-toggleable__label sk-toggleable__label-arrow\">LogisticRegression</label><div class=\"sk-toggleable__content\"><pre>LogisticRegression()</pre></div></div></div></div></div></div></div></div></div></div></div></div>"
            ]
          },
          "metadata": {},
          "execution_count": 43
        }
      ]
    },
    {
      "cell_type": "code",
      "source": [
        "#best parameters\n",
        "reg_pipe_gs.best_params_"
      ],
      "metadata": {
        "colab": {
          "base_uri": "https://localhost:8080/"
        },
        "id": "7du7Pfl9MPTx",
        "outputId": "ef4cee82-7a1b-4cc2-9f9e-0306b0e57654"
      },
      "execution_count": 44,
      "outputs": [
        {
          "output_type": "execute_result",
          "data": {
            "text/plain": [
              "{'logisticregression__C': 1,\n",
              " 'logisticregression__max_iter': 1000,\n",
              " 'logisticregression__penalty': 'l2',\n",
              " 'logisticregression__solver': 'liblinear'}"
            ]
          },
          "metadata": {},
          "execution_count": 44
        }
      ]
    },
    {
      "cell_type": "code",
      "source": [
        "# accuracy score from best parameters\n",
        "reg_best_pipe = reg_pipe_gs.best_estimator_\n",
        "reg_best_pipe.fit(X_train, y_train)\n",
        "best_score_log = reg_best_pipe.score(X_test, y_test)\n",
        "best_score_log"
      ],
      "metadata": {
        "colab": {
          "base_uri": "https://localhost:8080/"
        },
        "id": "dUjsOXxgNqXr",
        "outputId": "70ec5959-d8cc-45c5-c94d-0dc4de932303"
      },
      "execution_count": 45,
      "outputs": [
        {
          "output_type": "execute_result",
          "data": {
            "text/plain": [
              "0.9790209790209791"
            ]
          },
          "metadata": {},
          "execution_count": 45
        }
      ]
    },
    {
      "cell_type": "code",
      "source": [
        "#making predictions to evaluate other metrics\n",
        "log_reg_pred_train = reg_best_pipe.predict(X_train)\n",
        "log_reg_pred_test = reg_best_pipe.predict(X_test)"
      ],
      "metadata": {
        "id": "LglY8VnFOlnd"
      },
      "execution_count": 46,
      "outputs": []
    },
    {
      "cell_type": "markdown",
      "source": [
        "### 2) Then, try creating and tuning KNN and Random Forest models and see if you can get better metrics. \n",
        "\n",
        "---\n",
        "\n",
        "\n",
        "\n",
        "---\n",
        "\n"
      ],
      "metadata": {
        "id": "W0kFMKzTpeEa"
      }
    },
    {
      "cell_type": "markdown",
      "source": [
        "###Random Forest "
      ],
      "metadata": {
        "id": "t5145ykkpYWx"
      }
    },
    {
      "cell_type": "code",
      "source": [
        "#this time I'll fit the model before getting parameters just to define the range I will use in the Grid\n",
        "rf = RandomForestClassifier(random_state = 42)\n",
        "rf.fit(X_train, y_train)\n",
        "rf.get_params()"
      ],
      "metadata": {
        "colab": {
          "base_uri": "https://localhost:8080/"
        },
        "id": "i4lvh2zgpn0m",
        "outputId": "5fdbf7c3-6622-4378-8639-8db784cadb24"
      },
      "execution_count": 47,
      "outputs": [
        {
          "output_type": "execute_result",
          "data": {
            "text/plain": [
              "{'bootstrap': True,\n",
              " 'ccp_alpha': 0.0,\n",
              " 'class_weight': None,\n",
              " 'criterion': 'gini',\n",
              " 'max_depth': None,\n",
              " 'max_features': 'auto',\n",
              " 'max_leaf_nodes': None,\n",
              " 'max_samples': None,\n",
              " 'min_impurity_decrease': 0.0,\n",
              " 'min_samples_leaf': 1,\n",
              " 'min_samples_split': 2,\n",
              " 'min_weight_fraction_leaf': 0.0,\n",
              " 'n_estimators': 100,\n",
              " 'n_jobs': None,\n",
              " 'oob_score': False,\n",
              " 'random_state': 42,\n",
              " 'verbose': 0,\n",
              " 'warm_start': False}"
            ]
          },
          "metadata": {},
          "execution_count": 47
        }
      ]
    },
    {
      "cell_type": "code",
      "source": [
        "rf_param_grid ={ 'max_depth':range(1,20),  'n_estimators': [ 10, 30, 60, 100, 120]  }"
      ],
      "metadata": {
        "id": "gltzD5m7rFGv"
      },
      "execution_count": 48,
      "outputs": []
    },
    {
      "cell_type": "code",
      "source": [
        "#gridsearch \"pipe\"\n",
        "rf_pipe_gs = GridSearchCV(rf, rf_param_grid)\n",
        "rf_pipe_gs.fit(X_train, y_train)"
      ],
      "metadata": {
        "colab": {
          "base_uri": "https://localhost:8080/",
          "height": 93
        },
        "id": "eYHHJ4Ksr_sK",
        "outputId": "1fffb28b-35d1-4d0e-fe30-7d3facbbe88f"
      },
      "execution_count": 17,
      "outputs": [
        {
          "output_type": "execute_result",
          "data": {
            "text/plain": [
              "GridSearchCV(estimator=RandomForestClassifier(random_state=42),\n",
              "             param_grid={'max_depth': range(1, 20),\n",
              "                         'n_estimators': [10, 30, 60, 100, 120]})"
            ],
            "text/html": [
              "<style>#sk-99bca757-6088-4e3b-8dd6-16b8174afab2 {color: black;background-color: white;}#sk-99bca757-6088-4e3b-8dd6-16b8174afab2 pre{padding: 0;}#sk-99bca757-6088-4e3b-8dd6-16b8174afab2 div.sk-toggleable {background-color: white;}#sk-99bca757-6088-4e3b-8dd6-16b8174afab2 label.sk-toggleable__label {cursor: pointer;display: block;width: 100%;margin-bottom: 0;padding: 0.3em;box-sizing: border-box;text-align: center;}#sk-99bca757-6088-4e3b-8dd6-16b8174afab2 label.sk-toggleable__label-arrow:before {content: \"▸\";float: left;margin-right: 0.25em;color: #696969;}#sk-99bca757-6088-4e3b-8dd6-16b8174afab2 label.sk-toggleable__label-arrow:hover:before {color: black;}#sk-99bca757-6088-4e3b-8dd6-16b8174afab2 div.sk-estimator:hover label.sk-toggleable__label-arrow:before {color: black;}#sk-99bca757-6088-4e3b-8dd6-16b8174afab2 div.sk-toggleable__content {max-height: 0;max-width: 0;overflow: hidden;text-align: left;background-color: #f0f8ff;}#sk-99bca757-6088-4e3b-8dd6-16b8174afab2 div.sk-toggleable__content pre {margin: 0.2em;color: black;border-radius: 0.25em;background-color: #f0f8ff;}#sk-99bca757-6088-4e3b-8dd6-16b8174afab2 input.sk-toggleable__control:checked~div.sk-toggleable__content {max-height: 200px;max-width: 100%;overflow: auto;}#sk-99bca757-6088-4e3b-8dd6-16b8174afab2 input.sk-toggleable__control:checked~label.sk-toggleable__label-arrow:before {content: \"▾\";}#sk-99bca757-6088-4e3b-8dd6-16b8174afab2 div.sk-estimator input.sk-toggleable__control:checked~label.sk-toggleable__label {background-color: #d4ebff;}#sk-99bca757-6088-4e3b-8dd6-16b8174afab2 div.sk-label input.sk-toggleable__control:checked~label.sk-toggleable__label {background-color: #d4ebff;}#sk-99bca757-6088-4e3b-8dd6-16b8174afab2 input.sk-hidden--visually {border: 0;clip: rect(1px 1px 1px 1px);clip: rect(1px, 1px, 1px, 1px);height: 1px;margin: -1px;overflow: hidden;padding: 0;position: absolute;width: 1px;}#sk-99bca757-6088-4e3b-8dd6-16b8174afab2 div.sk-estimator {font-family: monospace;background-color: #f0f8ff;border: 1px dotted black;border-radius: 0.25em;box-sizing: border-box;margin-bottom: 0.5em;}#sk-99bca757-6088-4e3b-8dd6-16b8174afab2 div.sk-estimator:hover {background-color: #d4ebff;}#sk-99bca757-6088-4e3b-8dd6-16b8174afab2 div.sk-parallel-item::after {content: \"\";width: 100%;border-bottom: 1px solid gray;flex-grow: 1;}#sk-99bca757-6088-4e3b-8dd6-16b8174afab2 div.sk-label:hover label.sk-toggleable__label {background-color: #d4ebff;}#sk-99bca757-6088-4e3b-8dd6-16b8174afab2 div.sk-serial::before {content: \"\";position: absolute;border-left: 1px solid gray;box-sizing: border-box;top: 2em;bottom: 0;left: 50%;}#sk-99bca757-6088-4e3b-8dd6-16b8174afab2 div.sk-serial {display: flex;flex-direction: column;align-items: center;background-color: white;padding-right: 0.2em;padding-left: 0.2em;}#sk-99bca757-6088-4e3b-8dd6-16b8174afab2 div.sk-item {z-index: 1;}#sk-99bca757-6088-4e3b-8dd6-16b8174afab2 div.sk-parallel {display: flex;align-items: stretch;justify-content: center;background-color: white;}#sk-99bca757-6088-4e3b-8dd6-16b8174afab2 div.sk-parallel::before {content: \"\";position: absolute;border-left: 1px solid gray;box-sizing: border-box;top: 2em;bottom: 0;left: 50%;}#sk-99bca757-6088-4e3b-8dd6-16b8174afab2 div.sk-parallel-item {display: flex;flex-direction: column;position: relative;background-color: white;}#sk-99bca757-6088-4e3b-8dd6-16b8174afab2 div.sk-parallel-item:first-child::after {align-self: flex-end;width: 50%;}#sk-99bca757-6088-4e3b-8dd6-16b8174afab2 div.sk-parallel-item:last-child::after {align-self: flex-start;width: 50%;}#sk-99bca757-6088-4e3b-8dd6-16b8174afab2 div.sk-parallel-item:only-child::after {width: 0;}#sk-99bca757-6088-4e3b-8dd6-16b8174afab2 div.sk-dashed-wrapped {border: 1px dashed gray;margin: 0 0.4em 0.5em 0.4em;box-sizing: border-box;padding-bottom: 0.4em;background-color: white;position: relative;}#sk-99bca757-6088-4e3b-8dd6-16b8174afab2 div.sk-label label {font-family: monospace;font-weight: bold;background-color: white;display: inline-block;line-height: 1.2em;}#sk-99bca757-6088-4e3b-8dd6-16b8174afab2 div.sk-label-container {position: relative;z-index: 2;text-align: center;}#sk-99bca757-6088-4e3b-8dd6-16b8174afab2 div.sk-container {/* jupyter's `normalize.less` sets `[hidden] { display: none; }` but bootstrap.min.css set `[hidden] { display: none !important; }` so we also need the `!important` here to be able to override the default hidden behavior on the sphinx rendered scikit-learn.org. See: https://github.com/scikit-learn/scikit-learn/issues/21755 */display: inline-block !important;position: relative;}#sk-99bca757-6088-4e3b-8dd6-16b8174afab2 div.sk-text-repr-fallback {display: none;}</style><div id=\"sk-99bca757-6088-4e3b-8dd6-16b8174afab2\" class=\"sk-top-container\"><div class=\"sk-text-repr-fallback\"><pre>GridSearchCV(estimator=RandomForestClassifier(random_state=42),\n",
              "             param_grid={&#x27;max_depth&#x27;: range(1, 20),\n",
              "                         &#x27;n_estimators&#x27;: [10, 30, 60, 100, 120]})</pre><b>Please rerun this cell to show the HTML repr or trust the notebook.</b></div><div class=\"sk-container\" hidden><div class=\"sk-item sk-dashed-wrapped\"><div class=\"sk-label-container\"><div class=\"sk-label sk-toggleable\"><input class=\"sk-toggleable__control sk-hidden--visually\" id=\"b5581929-c2fe-42ab-a23c-f9d419dd5a9d\" type=\"checkbox\" ><label for=\"b5581929-c2fe-42ab-a23c-f9d419dd5a9d\" class=\"sk-toggleable__label sk-toggleable__label-arrow\">GridSearchCV</label><div class=\"sk-toggleable__content\"><pre>GridSearchCV(estimator=RandomForestClassifier(random_state=42),\n",
              "             param_grid={&#x27;max_depth&#x27;: range(1, 20),\n",
              "                         &#x27;n_estimators&#x27;: [10, 30, 60, 100, 120]})</pre></div></div></div><div class=\"sk-parallel\"><div class=\"sk-parallel-item\"><div class=\"sk-item\"><div class=\"sk-serial\"><div class=\"sk-item\"><div class=\"sk-estimator sk-toggleable\"><input class=\"sk-toggleable__control sk-hidden--visually\" id=\"63703ff3-6a29-414d-8bb6-558a6080a5ff\" type=\"checkbox\" ><label for=\"63703ff3-6a29-414d-8bb6-558a6080a5ff\" class=\"sk-toggleable__label sk-toggleable__label-arrow\">RandomForestClassifier</label><div class=\"sk-toggleable__content\"><pre>RandomForestClassifier(random_state=42)</pre></div></div></div></div></div></div></div></div></div></div>"
            ]
          },
          "metadata": {},
          "execution_count": 17
        }
      ]
    },
    {
      "cell_type": "code",
      "source": [
        "rf_pipe_gs.best_params_\n",
        "rf_best_pipe = rf_pipe_gs.best_estimator_\n",
        "best_score_rf = rf_best_pipe.score(X_test, y_test)\n",
        "best_score_rf "
      ],
      "metadata": {
        "colab": {
          "base_uri": "https://localhost:8080/"
        },
        "id": "xJSz3d46sbyQ",
        "outputId": "89b880ab-8b82-4372-db6e-1e5e179cd276"
      },
      "execution_count": 18,
      "outputs": [
        {
          "output_type": "execute_result",
          "data": {
            "text/plain": [
              "0.965034965034965"
            ]
          },
          "metadata": {},
          "execution_count": 18
        }
      ]
    },
    {
      "cell_type": "code",
      "source": [
        "#making predictions to evaluate other metrics\n",
        "rf_pred_train = rf_best_pipe.predict(X_train)\n",
        "rf_pred_test = rf_best_pipe.predict(X_test)"
      ],
      "metadata": {
        "id": "OirSVp65s1Zw"
      },
      "execution_count": 19,
      "outputs": []
    },
    {
      "cell_type": "markdown",
      "source": [
        "###KNN"
      ],
      "metadata": {
        "id": "NnBpXjKTRiQo"
      }
    },
    {
      "cell_type": "code",
      "source": [
        "scaler = StandardScaler()\n",
        "knn = KNeighborsClassifier() \n",
        "knn_pipe = make_pipeline(scaler, knn)\n",
        "knn.get_params()"
      ],
      "metadata": {
        "colab": {
          "base_uri": "https://localhost:8080/"
        },
        "id": "mHf4ohzcRmzX",
        "outputId": "c92d518f-8604-4e14-f59d-da15d86ea046"
      },
      "execution_count": 20,
      "outputs": [
        {
          "output_type": "execute_result",
          "data": {
            "text/plain": [
              "{'algorithm': 'auto',\n",
              " 'leaf_size': 30,\n",
              " 'metric': 'minkowski',\n",
              " 'metric_params': None,\n",
              " 'n_jobs': None,\n",
              " 'n_neighbors': 5,\n",
              " 'p': 2,\n",
              " 'weights': 'uniform'}"
            ]
          },
          "metadata": {},
          "execution_count": 20
        }
      ]
    },
    {
      "cell_type": "code",
      "source": [
        "knn_param_grid ={'n_neighbors':range(1,20)}"
      ],
      "metadata": {
        "id": "ZoszuEjgRmnh"
      },
      "execution_count": 21,
      "outputs": []
    },
    {
      "cell_type": "code",
      "source": [
        "#gridsearch \"pipe\"\n",
        "knn_pipe_gs = GridSearchCV(knn, knn_param_grid)\n",
        "knn_pipe_gs.fit(X_train, y_train)"
      ],
      "metadata": {
        "colab": {
          "base_uri": "https://localhost:8080/",
          "height": 93
        },
        "id": "QbqMo8ZYRmZX",
        "outputId": "487f7abc-34dc-4ae4-cd0d-07f751b8b131"
      },
      "execution_count": 22,
      "outputs": [
        {
          "output_type": "execute_result",
          "data": {
            "text/plain": [
              "GridSearchCV(estimator=KNeighborsClassifier(),\n",
              "             param_grid={'n_neighbors': range(1, 20)})"
            ],
            "text/html": [
              "<style>#sk-baa6fed1-4d9e-4e4f-83ab-8838b6cf9b34 {color: black;background-color: white;}#sk-baa6fed1-4d9e-4e4f-83ab-8838b6cf9b34 pre{padding: 0;}#sk-baa6fed1-4d9e-4e4f-83ab-8838b6cf9b34 div.sk-toggleable {background-color: white;}#sk-baa6fed1-4d9e-4e4f-83ab-8838b6cf9b34 label.sk-toggleable__label {cursor: pointer;display: block;width: 100%;margin-bottom: 0;padding: 0.3em;box-sizing: border-box;text-align: center;}#sk-baa6fed1-4d9e-4e4f-83ab-8838b6cf9b34 label.sk-toggleable__label-arrow:before {content: \"▸\";float: left;margin-right: 0.25em;color: #696969;}#sk-baa6fed1-4d9e-4e4f-83ab-8838b6cf9b34 label.sk-toggleable__label-arrow:hover:before {color: black;}#sk-baa6fed1-4d9e-4e4f-83ab-8838b6cf9b34 div.sk-estimator:hover label.sk-toggleable__label-arrow:before {color: black;}#sk-baa6fed1-4d9e-4e4f-83ab-8838b6cf9b34 div.sk-toggleable__content {max-height: 0;max-width: 0;overflow: hidden;text-align: left;background-color: #f0f8ff;}#sk-baa6fed1-4d9e-4e4f-83ab-8838b6cf9b34 div.sk-toggleable__content pre {margin: 0.2em;color: black;border-radius: 0.25em;background-color: #f0f8ff;}#sk-baa6fed1-4d9e-4e4f-83ab-8838b6cf9b34 input.sk-toggleable__control:checked~div.sk-toggleable__content {max-height: 200px;max-width: 100%;overflow: auto;}#sk-baa6fed1-4d9e-4e4f-83ab-8838b6cf9b34 input.sk-toggleable__control:checked~label.sk-toggleable__label-arrow:before {content: \"▾\";}#sk-baa6fed1-4d9e-4e4f-83ab-8838b6cf9b34 div.sk-estimator input.sk-toggleable__control:checked~label.sk-toggleable__label {background-color: #d4ebff;}#sk-baa6fed1-4d9e-4e4f-83ab-8838b6cf9b34 div.sk-label input.sk-toggleable__control:checked~label.sk-toggleable__label {background-color: #d4ebff;}#sk-baa6fed1-4d9e-4e4f-83ab-8838b6cf9b34 input.sk-hidden--visually {border: 0;clip: rect(1px 1px 1px 1px);clip: rect(1px, 1px, 1px, 1px);height: 1px;margin: -1px;overflow: hidden;padding: 0;position: absolute;width: 1px;}#sk-baa6fed1-4d9e-4e4f-83ab-8838b6cf9b34 div.sk-estimator {font-family: monospace;background-color: #f0f8ff;border: 1px dotted black;border-radius: 0.25em;box-sizing: border-box;margin-bottom: 0.5em;}#sk-baa6fed1-4d9e-4e4f-83ab-8838b6cf9b34 div.sk-estimator:hover {background-color: #d4ebff;}#sk-baa6fed1-4d9e-4e4f-83ab-8838b6cf9b34 div.sk-parallel-item::after {content: \"\";width: 100%;border-bottom: 1px solid gray;flex-grow: 1;}#sk-baa6fed1-4d9e-4e4f-83ab-8838b6cf9b34 div.sk-label:hover label.sk-toggleable__label {background-color: #d4ebff;}#sk-baa6fed1-4d9e-4e4f-83ab-8838b6cf9b34 div.sk-serial::before {content: \"\";position: absolute;border-left: 1px solid gray;box-sizing: border-box;top: 2em;bottom: 0;left: 50%;}#sk-baa6fed1-4d9e-4e4f-83ab-8838b6cf9b34 div.sk-serial {display: flex;flex-direction: column;align-items: center;background-color: white;padding-right: 0.2em;padding-left: 0.2em;}#sk-baa6fed1-4d9e-4e4f-83ab-8838b6cf9b34 div.sk-item {z-index: 1;}#sk-baa6fed1-4d9e-4e4f-83ab-8838b6cf9b34 div.sk-parallel {display: flex;align-items: stretch;justify-content: center;background-color: white;}#sk-baa6fed1-4d9e-4e4f-83ab-8838b6cf9b34 div.sk-parallel::before {content: \"\";position: absolute;border-left: 1px solid gray;box-sizing: border-box;top: 2em;bottom: 0;left: 50%;}#sk-baa6fed1-4d9e-4e4f-83ab-8838b6cf9b34 div.sk-parallel-item {display: flex;flex-direction: column;position: relative;background-color: white;}#sk-baa6fed1-4d9e-4e4f-83ab-8838b6cf9b34 div.sk-parallel-item:first-child::after {align-self: flex-end;width: 50%;}#sk-baa6fed1-4d9e-4e4f-83ab-8838b6cf9b34 div.sk-parallel-item:last-child::after {align-self: flex-start;width: 50%;}#sk-baa6fed1-4d9e-4e4f-83ab-8838b6cf9b34 div.sk-parallel-item:only-child::after {width: 0;}#sk-baa6fed1-4d9e-4e4f-83ab-8838b6cf9b34 div.sk-dashed-wrapped {border: 1px dashed gray;margin: 0 0.4em 0.5em 0.4em;box-sizing: border-box;padding-bottom: 0.4em;background-color: white;position: relative;}#sk-baa6fed1-4d9e-4e4f-83ab-8838b6cf9b34 div.sk-label label {font-family: monospace;font-weight: bold;background-color: white;display: inline-block;line-height: 1.2em;}#sk-baa6fed1-4d9e-4e4f-83ab-8838b6cf9b34 div.sk-label-container {position: relative;z-index: 2;text-align: center;}#sk-baa6fed1-4d9e-4e4f-83ab-8838b6cf9b34 div.sk-container {/* jupyter's `normalize.less` sets `[hidden] { display: none; }` but bootstrap.min.css set `[hidden] { display: none !important; }` so we also need the `!important` here to be able to override the default hidden behavior on the sphinx rendered scikit-learn.org. See: https://github.com/scikit-learn/scikit-learn/issues/21755 */display: inline-block !important;position: relative;}#sk-baa6fed1-4d9e-4e4f-83ab-8838b6cf9b34 div.sk-text-repr-fallback {display: none;}</style><div id=\"sk-baa6fed1-4d9e-4e4f-83ab-8838b6cf9b34\" class=\"sk-top-container\"><div class=\"sk-text-repr-fallback\"><pre>GridSearchCV(estimator=KNeighborsClassifier(),\n",
              "             param_grid={&#x27;n_neighbors&#x27;: range(1, 20)})</pre><b>Please rerun this cell to show the HTML repr or trust the notebook.</b></div><div class=\"sk-container\" hidden><div class=\"sk-item sk-dashed-wrapped\"><div class=\"sk-label-container\"><div class=\"sk-label sk-toggleable\"><input class=\"sk-toggleable__control sk-hidden--visually\" id=\"66f03179-b8a2-465f-a592-42c8e83c461e\" type=\"checkbox\" ><label for=\"66f03179-b8a2-465f-a592-42c8e83c461e\" class=\"sk-toggleable__label sk-toggleable__label-arrow\">GridSearchCV</label><div class=\"sk-toggleable__content\"><pre>GridSearchCV(estimator=KNeighborsClassifier(),\n",
              "             param_grid={&#x27;n_neighbors&#x27;: range(1, 20)})</pre></div></div></div><div class=\"sk-parallel\"><div class=\"sk-parallel-item\"><div class=\"sk-item\"><div class=\"sk-serial\"><div class=\"sk-item\"><div class=\"sk-estimator sk-toggleable\"><input class=\"sk-toggleable__control sk-hidden--visually\" id=\"5b8e837a-d06d-4c5c-ae24-be4a3efea732\" type=\"checkbox\" ><label for=\"5b8e837a-d06d-4c5c-ae24-be4a3efea732\" class=\"sk-toggleable__label sk-toggleable__label-arrow\">KNeighborsClassifier</label><div class=\"sk-toggleable__content\"><pre>KNeighborsClassifier()</pre></div></div></div></div></div></div></div></div></div></div>"
            ]
          },
          "metadata": {},
          "execution_count": 22
        }
      ]
    },
    {
      "cell_type": "code",
      "source": [
        "knn_pipe_gs.best_params_\n",
        "knn_best_pipe = knn_pipe_gs.best_estimator_\n",
        "best_score_knn = knn_best_pipe.score(X_test, y_test)\n",
        "best_score_knn"
      ],
      "metadata": {
        "colab": {
          "base_uri": "https://localhost:8080/"
        },
        "id": "mnMM8WFUSsk1",
        "outputId": "85be513d-5ff4-49b6-ca3d-55a482c0d138"
      },
      "execution_count": 23,
      "outputs": [
        {
          "output_type": "execute_result",
          "data": {
            "text/plain": [
              "0.958041958041958"
            ]
          },
          "metadata": {},
          "execution_count": 23
        }
      ]
    },
    {
      "cell_type": "code",
      "source": [
        "knn_pred_train = knn_best_pipe.predict(X_train)\n",
        "knn_pred_test = knn_best_pipe.predict(X_test)\n",
        "\n"
      ],
      "metadata": {
        "id": "aDyx4LOFX7Lu"
      },
      "execution_count": 24,
      "outputs": []
    },
    {
      "cell_type": "markdown",
      "source": [
        "###Recall and Precsision Function"
      ],
      "metadata": {
        "id": "FrZqGY1BZIaO"
      }
    },
    {
      "cell_type": "code",
      "source": [
        "def rec_prec(train, test, pred_train, pred_test, model_name):\n",
        "  recall_train = recall_score(train,pred_train)\n",
        "  recall_test = recall_score(test,pred_test)\n",
        "  precision_train = precision_score(train,pred_train)\n",
        "  precision_test = precision_score(test,pred_test)\n",
        "  score_df = pd.DataFrame(index=['Recall Train', 'Recall Test','Precision Train', 'Precision Test'], columns= [str(model_name)])\n",
        "  score_df.loc['Recall Train'] = recall_train.round(4)\n",
        "  score_df.loc['Recall Test'] = recall_test.round(4)\n",
        "  score_df.loc['Precision Train'] = precision_train.round(4)\n",
        "  score_df.loc['Precision Test'] = precision_test.round(4)\n",
        "  return score_df"
      ],
      "metadata": {
        "id": "Jr1-fVZZU4QA"
      },
      "execution_count": 25,
      "outputs": []
    },
    {
      "cell_type": "markdown",
      "source": [
        "###Confusion Matrix Function"
      ],
      "metadata": {
        "id": "0dpPs4m5avkC"
      }
    },
    {
      "cell_type": "code",
      "source": [
        "def cm(y, predictions):\n",
        "  return ConfusionMatrixDisplay.from_predictions(y_test, predictions, display_labels=['Begnin', 'Malignant'], cmap='Blues');"
      ],
      "metadata": {
        "id": "WBE1XkgBZ4TI"
      },
      "execution_count": 26,
      "outputs": []
    },
    {
      "cell_type": "markdown",
      "source": [
        "\n",
        "\n",
        "---\n",
        "\n",
        "\n",
        "\n",
        "---\n",
        "\n"
      ],
      "metadata": {
        "id": "VeKUJ9dLczE6"
      }
    },
    {
      "cell_type": "markdown",
      "source": [
        "###Metrics"
      ],
      "metadata": {
        "id": "FE7vSu3SdKDq"
      }
    },
    {
      "cell_type": "code",
      "source": [
        "log_reg_metrics = rec_prec(y_train,y_test,log_reg_pred_train,log_reg_pred_test,'LogReg')\n",
        "rf_metrics = rec_prec(y_train,y_test,rf_pred_train,rf_pred_test,'RF')\n",
        "knn_metrics = rec_prec(y_train,y_test,knn_pred_train,knn_pred_test,'KNN')"
      ],
      "metadata": {
        "id": "QwweMCGiW46A"
      },
      "execution_count": 27,
      "outputs": []
    },
    {
      "cell_type": "markdown",
      "source": [
        "###Accuracy scores, \n",
        "- P.S. the function .score() calls accuracy_score, so using .score() for classification will give you the same results"
      ],
      "metadata": {
        "id": "iS8xO0aDjdc_"
      }
    },
    {
      "cell_type": "code",
      "source": [
        "best_scores = pd.DataFrame({'LogReg':best_score_log,'RF':best_score_rf,'KNN':best_score_knn }, index=[0])\n",
        "best_scores"
      ],
      "metadata": {
        "colab": {
          "base_uri": "https://localhost:8080/",
          "height": 0
        },
        "id": "PPC3DzBaaJfP",
        "outputId": "9b03525e-f0cd-4c62-e6da-0a8e1f632e6a"
      },
      "execution_count": 28,
      "outputs": [
        {
          "output_type": "execute_result",
          "data": {
            "text/plain": [
              "     LogReg        RF       KNN\n",
              "0  0.979021  0.965035  0.958042"
            ],
            "text/html": [
              "\n",
              "  <div id=\"df-5bbcb1f9-bd9a-45dc-899f-256f08cd358e\">\n",
              "    <div class=\"colab-df-container\">\n",
              "      <div>\n",
              "<style scoped>\n",
              "    .dataframe tbody tr th:only-of-type {\n",
              "        vertical-align: middle;\n",
              "    }\n",
              "\n",
              "    .dataframe tbody tr th {\n",
              "        vertical-align: top;\n",
              "    }\n",
              "\n",
              "    .dataframe thead th {\n",
              "        text-align: right;\n",
              "    }\n",
              "</style>\n",
              "<table border=\"1\" class=\"dataframe\">\n",
              "  <thead>\n",
              "    <tr style=\"text-align: right;\">\n",
              "      <th></th>\n",
              "      <th>LogReg</th>\n",
              "      <th>RF</th>\n",
              "      <th>KNN</th>\n",
              "    </tr>\n",
              "  </thead>\n",
              "  <tbody>\n",
              "    <tr>\n",
              "      <th>0</th>\n",
              "      <td>0.979021</td>\n",
              "      <td>0.965035</td>\n",
              "      <td>0.958042</td>\n",
              "    </tr>\n",
              "  </tbody>\n",
              "</table>\n",
              "</div>\n",
              "      <button class=\"colab-df-convert\" onclick=\"convertToInteractive('df-5bbcb1f9-bd9a-45dc-899f-256f08cd358e')\"\n",
              "              title=\"Convert this dataframe to an interactive table.\"\n",
              "              style=\"display:none;\">\n",
              "        \n",
              "  <svg xmlns=\"http://www.w3.org/2000/svg\" height=\"24px\"viewBox=\"0 0 24 24\"\n",
              "       width=\"24px\">\n",
              "    <path d=\"M0 0h24v24H0V0z\" fill=\"none\"/>\n",
              "    <path d=\"M18.56 5.44l.94 2.06.94-2.06 2.06-.94-2.06-.94-.94-2.06-.94 2.06-2.06.94zm-11 1L8.5 8.5l.94-2.06 2.06-.94-2.06-.94L8.5 2.5l-.94 2.06-2.06.94zm10 10l.94 2.06.94-2.06 2.06-.94-2.06-.94-.94-2.06-.94 2.06-2.06.94z\"/><path d=\"M17.41 7.96l-1.37-1.37c-.4-.4-.92-.59-1.43-.59-.52 0-1.04.2-1.43.59L10.3 9.45l-7.72 7.72c-.78.78-.78 2.05 0 2.83L4 21.41c.39.39.9.59 1.41.59.51 0 1.02-.2 1.41-.59l7.78-7.78 2.81-2.81c.8-.78.8-2.07 0-2.86zM5.41 20L4 18.59l7.72-7.72 1.47 1.35L5.41 20z\"/>\n",
              "  </svg>\n",
              "      </button>\n",
              "      \n",
              "  <style>\n",
              "    .colab-df-container {\n",
              "      display:flex;\n",
              "      flex-wrap:wrap;\n",
              "      gap: 12px;\n",
              "    }\n",
              "\n",
              "    .colab-df-convert {\n",
              "      background-color: #E8F0FE;\n",
              "      border: none;\n",
              "      border-radius: 50%;\n",
              "      cursor: pointer;\n",
              "      display: none;\n",
              "      fill: #1967D2;\n",
              "      height: 32px;\n",
              "      padding: 0 0 0 0;\n",
              "      width: 32px;\n",
              "    }\n",
              "\n",
              "    .colab-df-convert:hover {\n",
              "      background-color: #E2EBFA;\n",
              "      box-shadow: 0px 1px 2px rgba(60, 64, 67, 0.3), 0px 1px 3px 1px rgba(60, 64, 67, 0.15);\n",
              "      fill: #174EA6;\n",
              "    }\n",
              "\n",
              "    [theme=dark] .colab-df-convert {\n",
              "      background-color: #3B4455;\n",
              "      fill: #D2E3FC;\n",
              "    }\n",
              "\n",
              "    [theme=dark] .colab-df-convert:hover {\n",
              "      background-color: #434B5C;\n",
              "      box-shadow: 0px 1px 3px 1px rgba(0, 0, 0, 0.15);\n",
              "      filter: drop-shadow(0px 1px 2px rgba(0, 0, 0, 0.3));\n",
              "      fill: #FFFFFF;\n",
              "    }\n",
              "  </style>\n",
              "\n",
              "      <script>\n",
              "        const buttonEl =\n",
              "          document.querySelector('#df-5bbcb1f9-bd9a-45dc-899f-256f08cd358e button.colab-df-convert');\n",
              "        buttonEl.style.display =\n",
              "          google.colab.kernel.accessAllowed ? 'block' : 'none';\n",
              "\n",
              "        async function convertToInteractive(key) {\n",
              "          const element = document.querySelector('#df-5bbcb1f9-bd9a-45dc-899f-256f08cd358e');\n",
              "          const dataTable =\n",
              "            await google.colab.kernel.invokeFunction('convertToInteractive',\n",
              "                                                     [key], {});\n",
              "          if (!dataTable) return;\n",
              "\n",
              "          const docLinkHtml = 'Like what you see? Visit the ' +\n",
              "            '<a target=\"_blank\" href=https://colab.research.google.com/notebooks/data_table.ipynb>data table notebook</a>'\n",
              "            + ' to learn more about interactive tables.';\n",
              "          element.innerHTML = '';\n",
              "          dataTable['output_type'] = 'display_data';\n",
              "          await google.colab.output.renderOutput(dataTable, element);\n",
              "          const docLink = document.createElement('div');\n",
              "          docLink.innerHTML = docLinkHtml;\n",
              "          element.appendChild(docLink);\n",
              "        }\n",
              "      </script>\n",
              "    </div>\n",
              "  </div>\n",
              "  "
            ]
          },
          "metadata": {},
          "execution_count": 28
        }
      ]
    },
    {
      "cell_type": "markdown",
      "source": [
        "### Recall and precision"
      ],
      "metadata": {
        "id": "H82YYZtRkEfC"
      }
    },
    {
      "cell_type": "code",
      "source": [
        "results =pd.concat([log_reg_metrics, rf_metrics, knn_metrics], axis=1)\n",
        "results"
      ],
      "metadata": {
        "colab": {
          "base_uri": "https://localhost:8080/",
          "height": 0
        },
        "id": "ZyyirJQbtDJx",
        "outputId": "ecfeb0bf-1b57-40fe-ad75-0097c0bc61f1"
      },
      "execution_count": 29,
      "outputs": [
        {
          "output_type": "execute_result",
          "data": {
            "text/plain": [
              "                 LogReg      RF     KNN\n",
              "Recall Train     0.9747  0.9873  0.8734\n",
              "Recall Test      0.9815  0.9444  0.9259\n",
              "Precision Train  0.9872     1.0  0.9517\n",
              "Precision Test   0.9636  0.9623  0.9615"
            ],
            "text/html": [
              "\n",
              "  <div id=\"df-449aa99f-f63b-467f-af95-00b863ed3642\">\n",
              "    <div class=\"colab-df-container\">\n",
              "      <div>\n",
              "<style scoped>\n",
              "    .dataframe tbody tr th:only-of-type {\n",
              "        vertical-align: middle;\n",
              "    }\n",
              "\n",
              "    .dataframe tbody tr th {\n",
              "        vertical-align: top;\n",
              "    }\n",
              "\n",
              "    .dataframe thead th {\n",
              "        text-align: right;\n",
              "    }\n",
              "</style>\n",
              "<table border=\"1\" class=\"dataframe\">\n",
              "  <thead>\n",
              "    <tr style=\"text-align: right;\">\n",
              "      <th></th>\n",
              "      <th>LogReg</th>\n",
              "      <th>RF</th>\n",
              "      <th>KNN</th>\n",
              "    </tr>\n",
              "  </thead>\n",
              "  <tbody>\n",
              "    <tr>\n",
              "      <th>Recall Train</th>\n",
              "      <td>0.9747</td>\n",
              "      <td>0.9873</td>\n",
              "      <td>0.8734</td>\n",
              "    </tr>\n",
              "    <tr>\n",
              "      <th>Recall Test</th>\n",
              "      <td>0.9815</td>\n",
              "      <td>0.9444</td>\n",
              "      <td>0.9259</td>\n",
              "    </tr>\n",
              "    <tr>\n",
              "      <th>Precision Train</th>\n",
              "      <td>0.9872</td>\n",
              "      <td>1.0</td>\n",
              "      <td>0.9517</td>\n",
              "    </tr>\n",
              "    <tr>\n",
              "      <th>Precision Test</th>\n",
              "      <td>0.9636</td>\n",
              "      <td>0.9623</td>\n",
              "      <td>0.9615</td>\n",
              "    </tr>\n",
              "  </tbody>\n",
              "</table>\n",
              "</div>\n",
              "      <button class=\"colab-df-convert\" onclick=\"convertToInteractive('df-449aa99f-f63b-467f-af95-00b863ed3642')\"\n",
              "              title=\"Convert this dataframe to an interactive table.\"\n",
              "              style=\"display:none;\">\n",
              "        \n",
              "  <svg xmlns=\"http://www.w3.org/2000/svg\" height=\"24px\"viewBox=\"0 0 24 24\"\n",
              "       width=\"24px\">\n",
              "    <path d=\"M0 0h24v24H0V0z\" fill=\"none\"/>\n",
              "    <path d=\"M18.56 5.44l.94 2.06.94-2.06 2.06-.94-2.06-.94-.94-2.06-.94 2.06-2.06.94zm-11 1L8.5 8.5l.94-2.06 2.06-.94-2.06-.94L8.5 2.5l-.94 2.06-2.06.94zm10 10l.94 2.06.94-2.06 2.06-.94-2.06-.94-.94-2.06-.94 2.06-2.06.94z\"/><path d=\"M17.41 7.96l-1.37-1.37c-.4-.4-.92-.59-1.43-.59-.52 0-1.04.2-1.43.59L10.3 9.45l-7.72 7.72c-.78.78-.78 2.05 0 2.83L4 21.41c.39.39.9.59 1.41.59.51 0 1.02-.2 1.41-.59l7.78-7.78 2.81-2.81c.8-.78.8-2.07 0-2.86zM5.41 20L4 18.59l7.72-7.72 1.47 1.35L5.41 20z\"/>\n",
              "  </svg>\n",
              "      </button>\n",
              "      \n",
              "  <style>\n",
              "    .colab-df-container {\n",
              "      display:flex;\n",
              "      flex-wrap:wrap;\n",
              "      gap: 12px;\n",
              "    }\n",
              "\n",
              "    .colab-df-convert {\n",
              "      background-color: #E8F0FE;\n",
              "      border: none;\n",
              "      border-radius: 50%;\n",
              "      cursor: pointer;\n",
              "      display: none;\n",
              "      fill: #1967D2;\n",
              "      height: 32px;\n",
              "      padding: 0 0 0 0;\n",
              "      width: 32px;\n",
              "    }\n",
              "\n",
              "    .colab-df-convert:hover {\n",
              "      background-color: #E2EBFA;\n",
              "      box-shadow: 0px 1px 2px rgba(60, 64, 67, 0.3), 0px 1px 3px 1px rgba(60, 64, 67, 0.15);\n",
              "      fill: #174EA6;\n",
              "    }\n",
              "\n",
              "    [theme=dark] .colab-df-convert {\n",
              "      background-color: #3B4455;\n",
              "      fill: #D2E3FC;\n",
              "    }\n",
              "\n",
              "    [theme=dark] .colab-df-convert:hover {\n",
              "      background-color: #434B5C;\n",
              "      box-shadow: 0px 1px 3px 1px rgba(0, 0, 0, 0.15);\n",
              "      filter: drop-shadow(0px 1px 2px rgba(0, 0, 0, 0.3));\n",
              "      fill: #FFFFFF;\n",
              "    }\n",
              "  </style>\n",
              "\n",
              "      <script>\n",
              "        const buttonEl =\n",
              "          document.querySelector('#df-449aa99f-f63b-467f-af95-00b863ed3642 button.colab-df-convert');\n",
              "        buttonEl.style.display =\n",
              "          google.colab.kernel.accessAllowed ? 'block' : 'none';\n",
              "\n",
              "        async function convertToInteractive(key) {\n",
              "          const element = document.querySelector('#df-449aa99f-f63b-467f-af95-00b863ed3642');\n",
              "          const dataTable =\n",
              "            await google.colab.kernel.invokeFunction('convertToInteractive',\n",
              "                                                     [key], {});\n",
              "          if (!dataTable) return;\n",
              "\n",
              "          const docLinkHtml = 'Like what you see? Visit the ' +\n",
              "            '<a target=\"_blank\" href=https://colab.research.google.com/notebooks/data_table.ipynb>data table notebook</a>'\n",
              "            + ' to learn more about interactive tables.';\n",
              "          element.innerHTML = '';\n",
              "          dataTable['output_type'] = 'display_data';\n",
              "          await google.colab.output.renderOutput(dataTable, element);\n",
              "          const docLink = document.createElement('div');\n",
              "          docLink.innerHTML = docLinkHtml;\n",
              "          element.appendChild(docLink);\n",
              "        }\n",
              "      </script>\n",
              "    </div>\n",
              "  </div>\n",
              "  "
            ]
          },
          "metadata": {},
          "execution_count": 29
        }
      ]
    },
    {
      "cell_type": "markdown",
      "source": [
        "### Confusion Matrix"
      ],
      "metadata": {
        "id": "K-UNIOdWkIPu"
      }
    },
    {
      "cell_type": "code",
      "source": [
        "plot_log = cm(y_test,log_reg_pred_test)\n",
        "plot_log;"
      ],
      "metadata": {
        "colab": {
          "base_uri": "https://localhost:8080/",
          "height": 0
        },
        "id": "A6W5dvUuZguT",
        "outputId": "bcffc4d1-76e4-42dc-96a2-0df81895eda1"
      },
      "execution_count": 30,
      "outputs": [
        {
          "output_type": "display_data",
          "data": {
            "text/plain": [
              "<Figure size 432x288 with 2 Axes>"
            ],
            "image/png": "[encoded data removed]"
          },
          "metadata": {
            "needs_background": "light"
          }
        }
      ]
    },
    {
      "cell_type": "code",
      "source": [
        "plot_rf = cm(y_test,rf_pred_test)\n",
        "plot_rf;"
      ],
      "metadata": {
        "colab": {
          "base_uri": "https://localhost:8080/",
          "height": 0
        },
        "id": "FLENngv_aoNR",
        "outputId": "498fe09c-a0ed-4766-92fe-67a5cce67a30"
      },
      "execution_count": 31,
      "outputs": [
        {
          "output_type": "display_data",
          "data": {
            "text/plain": [
              "<Figure size 432x288 with 2 Axes>"
            ],
            "image/png": "[encoded data removed]"
          },
          "metadata": {
            "needs_background": "light"
          }
        }
      ]
    },
    {
      "cell_type": "code",
      "source": [
        "plot_knn = cm(y_test,knn_pred_test)\n",
        "plot_knn;"
      ],
      "metadata": {
        "colab": {
          "base_uri": "https://localhost:8080/",
          "height": 0
        },
        "id": "gjD9cGP9YVkn",
        "outputId": "f258f47b-6936-4bc9-d787-415530a03a05"
      },
      "execution_count": 32,
      "outputs": [
        {
          "output_type": "display_data",
          "data": {
            "text/plain": [
              "<Figure size 432x288 with 2 Axes>"
            ],
            "image/png": "[encoded data removed]"
          },
          "metadata": {
            "needs_background": "light"
          }
        }
      ]
    },
    {
      "cell_type": "markdown",
      "source": [
        "###3) Address these questions in a text cell at the end of your code:\n",
        "\n",
        "a) Which hyperparameters did you tune for each of the models? \n",
        "\n",
        "b) Which model would you put into production to diagnose malignant tumors?\n",
        "\n",
        "c) How does consideration of the meaning of false positive and false negative errors affect how you determine what 'best' means in this case?\n"
      ],
      "metadata": {
        "id": "gJYRXNjglZca"
      }
    },
    {
      "cell_type": "markdown",
      "source": [
        "a) Tunes:\n",
        "\n",
        "**Logistic Regrassion:** \n",
        "- Solver = I removed lbfgs from the grid because it only supports 'l2'\n",
        "- Penalty= Used both L1 and L2\n",
        "- C (the inverse of regularization strength)= [0.0001, 0.001, 0.01, 0.1, 1, 10, 100, 1000], \n",
        "- Max_iter = increased to 1000\n",
        "\n",
        "**Random Forest:** \n",
        "- max_depth = from 1 - 20 exclusive - based on the first fit\n",
        "- n_estimators = [ 10, 30, 60, 100, 120]\n",
        "\n",
        "**KNN:** \n",
        "- n_neighbors = from 1 - 20 exclusive"
      ],
      "metadata": {
        "id": "BrqXxmWrlhXu"
      }
    },
    {
      "cell_type": "markdown",
      "source": [
        "b) **Based on the results for Recall and Precision I would choose Logistic Regression**"
      ],
      "metadata": {
        "id": "6oj0BmzdnzOr"
      }
    },
    {
      "cell_type": "markdown",
      "source": [
        "c) **For this case, having a false nagative is more harming, bacause the patient would proceed without treatment**"
      ],
      "metadata": {
        "id": "0VNKH9-RoIF5"
      }
    },
    {
      "cell_type": "code",
      "source": [
        "\n"
      ],
      "metadata": {
        "id": "v6fK0r9Lb1RD"
      },
      "execution_count": 32,
      "outputs": []
    }
  ]
}